{
  "nbformat": 4,
  "nbformat_minor": 0,
  "metadata": {
    "colab": {
      "provenance": []
    },
    "kernelspec": {
      "name": "python3",
      "display_name": "Python 3"
    },
    "language_info": {
      "name": "python"
    }
  },
  "cells": [
    {
      "cell_type": "markdown",
      "source": [
        "buatlah program Python yang menerima 2 angka sebagai input, dan print angka yang lebih besar"
      ],
      "metadata": {
        "id": "c6PbzuAuxyzZ"
      }
    },
    {
      "cell_type": "code",
      "execution_count": null,
      "metadata": {
        "id": "83p6yeNatOXB"
      },
      "outputs": [],
      "source": [
        "num1 = float(input(\"Enter the first number: \"))\n",
        "num2 = float(input(\"Enter the second number: \"))\n",
        "\n",
        "if num1 > num2:\n",
        "  print(f\"{num1} is greater.\")\n",
        "elif num2 > num1:\n",
        "  print(f\"{num2} is greater.\")\n",
        "else:\n",
        "  print(\"Both numbers are equal.\")"
      ]
    },
    {
      "cell_type": "markdown",
      "source": [
        "buatlah program Python yang bisa mengecek apakah tahun ini termasuk tahun kabisat atau bukan"
      ],
      "metadata": {
        "id": "iuVSQzkCyFf7"
      }
    },
    {
      "cell_type": "code",
      "source": [
        "year = int(input(\"Enter a year: \"))\n",
        "\n",
        "if (year % 4 == 0 and year % 100 != 0) or (year % 400 == 0):\n",
        "  print(f\"{year} is a leap year.\")\n",
        "else:\n",
        "  print(f\"{year} is not a leap year.\")"
      ],
      "metadata": {
        "id": "rh6-K5MFvcBE"
      },
      "execution_count": null,
      "outputs": []
    },
    {
      "cell_type": "markdown",
      "source": [
        "Buatlah program yang menghitung total semua angka genap dari 1 sampai 100, gunakan ‘while’ loop"
      ],
      "metadata": {
        "id": "zeyfsXXoyIWi"
      }
    },
    {
      "cell_type": "code",
      "source": [
        "total = 0\n",
        "num = 2\n",
        "\n",
        "while num <= 100:\n",
        "  total += num\n",
        "  num += 2\n",
        "\n",
        "print(\"Sum of even numbers from 1 to 100:\", total)"
      ],
      "metadata": {
        "id": "sXReqOM-wl_o"
      },
      "execution_count": null,
      "outputs": []
    },
    {
      "cell_type": "markdown",
      "source": [
        "Buatlah program yang terus meminta input user untuk memasukkan password hingga password “secret” terinput"
      ],
      "metadata": {
        "id": "JS-4dg82ya2h"
      }
    },
    {
      "cell_type": "code",
      "source": [
        "password = \"secret\"\n",
        "\n",
        "while True:\n",
        "  user_input = input(\"Enter the password: \")\n",
        "  if user_input == password:\n",
        "    print(\"Access granted!\")\n",
        "    break\n",
        "  else:\n",
        "    print(\"Incorrect password. Try again.\")"
      ],
      "metadata": {
        "id": "PgZ92qzoxCIM"
      },
      "execution_count": null,
      "outputs": []
    },
    {
      "cell_type": "markdown",
      "source": [
        "buatlah program yang membuat tabel multiplikasi untuk sebuah angka dari 1 x num hingga 10 x num. gunakan ‘for’ loop"
      ],
      "metadata": {
        "id": "UA2EVWMmybz2"
      }
    },
    {
      "cell_type": "code",
      "source": [
        "num = int(input(\"Enter a number: \"))\n",
        "\n",
        "for i in range(1, 11):\n",
        "  print(f\"{num} x {i} = {num * i}\")"
      ],
      "metadata": {
        "id": "g73WiWvbxM-Z"
      },
      "execution_count": null,
      "outputs": []
    },
    {
      "cell_type": "markdown",
      "source": [
        "buatlah program yang menghitung jumlah huruf hidup dalam sebuah string"
      ],
      "metadata": {
        "id": "5NhEVf4tygn7"
      }
    },
    {
      "cell_type": "code",
      "source": [
        "text = input(\"Enter a string: \")\n",
        "text = text.lower() # Convert the input to lowercase for case insensitivity\n",
        "vowel_count = 0\n",
        "\n",
        "for char in text:\n",
        "  if char in \"aeiou\":\n",
        "    vowel_count += 1\n",
        "\n",
        "print(f\"Number of vowels in the string: {vowel_count}\")"
      ],
      "metadata": {
        "id": "hvw5_EEsxQeO"
      },
      "execution_count": null,
      "outputs": []
    },
    {
      "cell_type": "markdown",
      "source": [
        "Buatlah sebuah fungsi bernama `sapa` yang menerima satu argumen berupa nama dan mencetak pesan sapaan. Panggil fungsi tersebut dengan nama \"John\""
      ],
      "metadata": {
        "id": "Vs-jw1THymCK"
      }
    },
    {
      "cell_type": "code",
      "source": [
        "def sapa(nama):\n",
        "  print(f\"Halo, {nama}!\")\n",
        "\n",
        "sapa(\"John\")"
      ],
      "metadata": {
        "id": "hSdhZ-qryzi0"
      },
      "execution_count": null,
      "outputs": []
    },
    {
      "cell_type": "markdown",
      "source": [
        "Buatlah sebuah fungsi `kuadrat` yang menerima satu angka sebagai argumen dan mengembalikan kuadrat dari angka tersebut. Cobalah fungsi ini dengan beberapa angka"
      ],
      "metadata": {
        "id": "BbSw-yiDywoT"
      }
    },
    {
      "cell_type": "code",
      "source": [
        "def kuadrat(angka):\n",
        "  return angka ** 2\n",
        "\n",
        "hasil = kuadrat(5)\n",
        "print(hasil)"
      ],
      "metadata": {
        "id": "v-yij-TTzB5t"
      },
      "execution_count": null,
      "outputs": []
    },
    {
      "cell_type": "markdown",
      "source": [
        "Buatlah sebuah fungsi `hitung_luas_persegi` yang menerima dua argumen: panjang dan lebar. Fungsi ini mengembalikan luas persegi tersebut. Jika salah satu argumen tidak disediakan, gunakan nilai default 1.0"
      ],
      "metadata": {
        "id": "-YpRHMJXzFYp"
      }
    },
    {
      "cell_type": "code",
      "source": [
        "def hitung_luas_persegi(panjang=1.0, lebar=1.0):\n",
        "  return panjang * lebar\n",
        "\n",
        "luas = hitung_luas_persegi(4, 3)\n",
        "print(luas)"
      ],
      "metadata": {
        "id": "1zDwC40_zHp8"
      },
      "execution_count": null,
      "outputs": []
    },
    {
      "cell_type": "markdown",
      "source": [
        "Buatlah sebuah fungsi `bentuk_nama` yang menerima dua argumen: nama_depan dan nama_belakang. Fungsi ini mengembalikan nama lengkap. Jika nama_belakang tidak disediakan, gunakan string kosong untuk nama_belakang"
      ],
      "metadata": {
        "id": "zW4EGZPtzNkc"
      }
    },
    {
      "cell_type": "code",
      "source": [
        "def bentuk_nama(nama_depan, nama_belakang=\"\"):\n",
        "  return f\"{nama_depan} {nama_belakang}\"\n",
        "\n",
        "nama = bentuk_nama(\"John\", \"Doe\")\n",
        "print(nama)"
      ],
      "metadata": {
        "id": "oYGuFpqXzPOK"
      },
      "execution_count": null,
      "outputs": []
    },
    {
      "cell_type": "markdown",
      "source": [
        "Buatlah sebuah fungsi `konversi_fahrenheit_ke_celcius` yang menerima suhu dalam Fahrenheit dan mengembalikan suhu tersebut dalam Celcius. Rumus konversi adalah: Celsius = (Fahrenheit - 32) * 5/9"
      ],
      "metadata": {
        "id": "3glNLSeGzW9b"
      }
    },
    {
      "cell_type": "code",
      "source": [
        "def konversi_fahrenheit_ke_celsius(fahrenheit):\n",
        "  celsius = (fahrenheit - 32) * 5/9\n",
        "  return celsius\n",
        "suhu_celsius = konversi_fahrenheit_ke_celsius(98.6)\n",
        "print(suhu_celsius)"
      ],
      "metadata": {
        "id": "SMoqWepRzXQQ"
      },
      "execution_count": null,
      "outputs": []
    },
    {
      "cell_type": "markdown",
      "source": [
        "Buatlah sebuah fungsi `hitung_pangkat` yang menerima dua argumen: angka dan pangkat. Fungsi ini mengembalikan hasil dari angka pangkat pangkat"
      ],
      "metadata": {
        "id": "qNKbeg8_zpRG"
      }
    },
    {
      "cell_type": "code",
      "source": [
        "def hitung_pangkat(angka, pangkat):\n",
        "  hasil = 1\n",
        "  for _ in range(pangkat):\n",
        "    hasil *= angka\n",
        "  return hasil\n",
        "pangkat = hitung_pangkat(2, 3)\n",
        "print(pangkat)"
      ],
      "metadata": {
        "id": "IILLVxW1zq_g"
      },
      "execution_count": null,
      "outputs": []
    },
    {
      "cell_type": "markdown",
      "source": [
        "Buatlah sebuah skrip Python yang meminta pengguna untuk memasukkan dua angka dan operasi matematika (+, -, *, /). Skrip tersebut kemudian menghitung dan mencetak hasil operasi tersebut"
      ],
      "metadata": {
        "id": "s0w_xxJt0xQX"
      }
    },
    {
      "cell_type": "code",
      "source": [
        "def tambah(x, y):\n",
        "  return x + y\n",
        "\n",
        "def kurang(x, y):\n",
        "  return x - y\n",
        "\n",
        "def kali(x, y):\n",
        "  return x * y\n",
        "\n",
        "def bagi(x, y):\n",
        "  if y == 0:\n",
        "    return \"Tidak bisa dibagi oleh 0\"\n",
        "  return x / y\n",
        "\n",
        "while True:\n",
        "  print(\"Pilih operasi:\")\n",
        "  print(\"1. Tambah\")\n",
        "  print(\"2. Kurang\")\n",
        "  print(\"3. Kali\")\n",
        "  print(\"4. Bagi\")\n",
        "  print(\"5. Keluar\")\n",
        "\n",
        "  pilihan = input(\"Masukkan nomor operasi (1/2/3/4/5): \")\n",
        "\n",
        "  if pilihan == '5':\n",
        "    print(\"Keluar dari kalkulator\")\n",
        "    break\n",
        "\n",
        "  angka1 = float(input(\"Masukkan angka pertama: \"))\n",
        "  angka2 = float(input(\"Masukkan angka kedua: \"))\n",
        "\n",
        "  if pilihan == '1':\n",
        "    print(\"Hasil:\", tambah(angka1, angka2))\n",
        "  elif pilihan == '2':\n",
        "    print(\"Hasil:\", kurang(angka1, angka2))\n",
        "  elif pilihan == '3':\n",
        "    print(\"Hasil:\", kali(angka1, angka2))\n",
        "  elif pilihan == '4':\n",
        "    print(\"Hasil:\", bagi(angka1, angka2))\n",
        "  else:\n",
        "    print(\"Pilihan tidak valid\")"
      ],
      "metadata": {
        "id": "G1LmnU7A0-jF"
      },
      "execution_count": null,
      "outputs": []
    },
    {
      "cell_type": "markdown",
      "source": [
        "Buatlah skrip Python yang memungkinkan pengguna untuk membuat daftar belanja. Pengguna harus dapat menambahkan, menghapus, dan melihat item pada daftar belanja"
      ],
      "metadata": {
        "id": "7fhtRuxu0-zL"
      }
    },
    {
      "cell_type": "code",
      "source": [
        "shopping_list = []\n",
        "\n",
        "def tambah_item(item):\n",
        "  shopping_list.append(item)\n",
        "  print(f\"{item} telah ditambahkan ke daftar belanja.\")\n",
        "\n",
        "def hapus_item(item):\n",
        "  if item in shopping_list:\n",
        "      shopping_list.remove(item)\n",
        "      print(f\"{item} telah dihapus dari daftar belanja.\")\n",
        "  else:\n",
        "      print(f\"{item} tidak ditemukan dalam daftar belanja.\")\n",
        "\n",
        "def tampilkan_daftar():\n",
        "  print(\"Daftar Belanja:\")\n",
        "  for item in shopping_list:\n",
        "      print(\"-\", item)\n",
        "\n",
        "while True:\n",
        "  print(\"Apa yang ingin Anda lakukan?\")\n",
        "  print(\"1. Tambah item ke daftar belanja\")\n",
        "  print(\"2. Hapus item dari daftar belanja\")\n",
        "  print(\"3. Tampilkan daftar belanja\")\n",
        "  print(\"4. Keluar\")\n",
        "\n",
        "  pilihan = input(\"Pilih tindakan (1/2/3/4): \")\n",
        "\n",
        "  if pilihan == '1':\n",
        "      item = input(\"Masukkan item yang ingin ditambahkan: \")\n",
        "      tambah_item(item)\n",
        "  elif pilihan == '2':\n",
        "      item = input(\"Masukkan item yang ingin dihapus: \")\n",
        "      hapus_item(item)\n",
        "  elif pilihan == '3':\n",
        "      tampilkan_daftar()\n",
        "  elif pilihan == '4':\n",
        "      print(\"Keluar dari daftar belanja\")\n",
        "      break\n",
        "  else:\n",
        "      print(\"Pilihan tidak valid\")"
      ],
      "metadata": {
        "id": "p1nrc0vy0_Bq"
      },
      "execution_count": null,
      "outputs": []
    },
    {
      "cell_type": "markdown",
      "source": [
        "Buatlah sebuah skrip Python yang meminta pengguna untuk memasukkan berat (kg) dan tinggi (cm), kemudian menghitung dan mencetak BMI mereka bersama dengan kategori BMI (Kurus, Normal, Gemuk)"
      ],
      "metadata": {
        "id": "bk0yU3f20_Z3"
      }
    },
    {
      "cell_type": "code",
      "source": [
        "def hitung_bmi(berat, tinggi):\n",
        "  tinggi_m = tinggi / 100\n",
        "  bmi = berat / (tinggi_m ** 2)\n",
        "  return bmi\n",
        "\n",
        "def kategori_bmi(bmi):\n",
        "  if bmi < 18.5:\n",
        "    return \"Kurus\"\n",
        "  elif 18.5 <= bmi < 24.9:\n",
        "    return \"Normal\"\n",
        "  elif 25 <= bmi < 29.9:\n",
        "    return \"Gemuk\"\n",
        "  else:\n",
        "    return \"Obesitas\"\n",
        "\n",
        "berat = float(input(\"Masukkan berat badan (kg): \"))\n",
        "tinggi = float(input(\"Masukkan tinggi badan (cm): \"))\n",
        "\n",
        "bmi = hitung_bmi(berat, tinggi)\n",
        "kategori = kategori_bmi(bmi)\n",
        "\n",
        "print(f\"BMI Anda adalah {bmi:.2f} ({kategori}).\")"
      ],
      "metadata": {
        "id": "ZKkPd5Id0_p8"
      },
      "execution_count": null,
      "outputs": []
    },
    {
      "cell_type": "markdown",
      "source": [
        "Buatlah skrip Python yang meminta pengguna untuk memasukkan sebuah kata atau frasa, dan kemudian mencari kata/frasa tersebut dalam teks yang telah ditentukan sebelumnya. Skrip tersebut harus memberi tahu pengguna apakah kata/frasa tersebut ditemukan atau tidak"
      ],
      "metadata": {
        "id": "I70wVYUM1AJU"
      }
    },
    {
      "cell_type": "code",
      "source": [
        "teks = \"\"\"Ini adalah contoh teks. Teks ini digunakan untuk latihan pencarian kata.\"\"\"\n",
        "\n",
        "kata_cari = input(\"Masukkan kata yang ingin Anda cari: \")\n",
        "\n",
        "if kata_cari in teks:\n",
        "  print(f\"'{kata_cari}' ditemukan dalam teks.\")\n",
        "else:\n",
        "  print(f\"'{kata_cari}' tidak ditemukan dalam teks.\")"
      ],
      "metadata": {
        "id": "6NaShaEZ1ARM"
      },
      "execution_count": null,
      "outputs": []
    },
    {
      "cell_type": "markdown",
      "source": [
        "Buatlah skrip Python yang memungkinkan pengguna untuk mengonversi jumlah uang dari satu mata uang ke mata uang lainnya berdasarkan nilai tukar"
      ],
      "metadata": {
        "id": "Hd9OSw9i1AeC"
      }
    },
    {
      "cell_type": "code",
      "source": [
        "def konversi_mata_uang(jumlah, nilai_tukar):\n",
        "  return jumlah * nilai_tukar\n",
        "\n",
        "nilai_tukar_usd_ke_idr = 14500 # Contoh nilai tukar USD ke IDR\n",
        "\n",
        "jumlah_usd = float(input(\"Masukkan jumlah dalam USD: \"))\n",
        "jumlah_idr = konversi_mata_uang(jumlah_usd, nilai_tukar_usd_ke_idr)\n",
        "\n",
        "print(f\"{jumlah_usd} USD setara dengan {jumlah_idr} IDR.\")"
      ],
      "metadata": {
        "id": "8o8HwE5K1Akq"
      },
      "execution_count": null,
      "outputs": []
    },
    {
      "cell_type": "markdown",
      "source": [
        "Buat program Python yang membaca data dari file Excel dan menampilkan data tersebut. Program ini juga harus memungkinkan pengguna untuk menambahkan data baru dan menyimpannya kembali ke file Excel"
      ],
      "metadata": {
        "id": "BMxDgjLS4Sgc"
      }
    },
    {
      "cell_type": "code",
      "source": [
        "import pandas as pd\n",
        "\n",
        "def baca_data_excel(nama_file):\n",
        "  df = pd.read_excel(nama_file)\n",
        "  return df\n",
        "\n",
        "def tulis_data_excel(nama_file, df):\n",
        "  df.to_excel(nama_file, index=False)\n",
        "\n",
        "def main():\n",
        "  nama_file = 'produk.xlsx'\n",
        "  produk = baca_data_excel(nama_file)\n",
        "\n",
        "  print(\"Data Produk:\")\n",
        "  print(produk)\n",
        "\n",
        "  tambah_produk = input(\"Tambah produk baru? (y/n): \")\n",
        "  if tambah_produk.lower() == 'y':\n",
        "    nama_produk = input(\"Nama produk: \")\n",
        "    harga_produk = input(\"Harga produk (IDR): \")\n",
        "    stok_produk = input(\"Stok produk: \")\n",
        "\n",
        "    produk_baru = {'Nama Produk': nama_produk, 'Harga': harga_produk, 'Stok': stok_produk}\n",
        "    produk = produk.append(produk_baru, ignore_index=True)\n",
        "\n",
        "    tulis_data_excel(nama_file, produk)\n",
        "    print(\"Produk berhasil ditambahkan dan disimpan.\")\n",
        "\n",
        "if __name__ == \"__main__\":\n",
        "  main()"
      ],
      "metadata": {
        "id": "aDbCerpe4W76"
      },
      "execution_count": null,
      "outputs": []
    },
    {
      "cell_type": "markdown",
      "source": [
        "Buatlah program Python yang berinteraksi dengan database SQL (misalnya, SQLite) untuk membaca data dari tabel dan menambahkan data baru ke dalam tabel tersebut"
      ],
      "metadata": {
        "id": "3cOr9E6H42G1"
      }
    },
    {
      "cell_type": "code",
      "source": [
        "import sqlite3\n",
        "\n",
        "# Fungsi untuk membaca data dari tabel\n",
        "def baca_data_sqlite(database_file):\n",
        "  connection = sqlite3.connect(database_file)\n",
        "  cursor = connection.cursor()\n",
        "  cursor.execute(\"SELECT * FROM produk\")\n",
        "  data = cursor.fetchall()\n",
        "  connection.close()\n",
        "  return data\n",
        "\n",
        "# Fungsi untuk menambahkan data ke dalam tabel\n",
        "def tambah_data_sqlite(database_file, nama_produk, harga, stok):\n",
        "  connection = sqlite3.connect(database_file)\n",
        "  cursor = connection.cursor()\n",
        "  cursor.execute(\"INSERT INTO produk (nama_produk, harga, stok) VALUES (?, ?, ?)\",(nama_produk, harga, stok))\n",
        "  connection.commit()\n",
        "  connection.close()\n",
        "\n",
        "def main():\n",
        "  database_file = 'produk.db'\n",
        "  produk = baca_data_sqlite(database_file)\n",
        "\n",
        "  print(\"Data Produk:\")\n",
        "  for item in produk:\n",
        "    print(f\"{item[1]}: {item[2]} IDR, Stok: {item[3]}\")\n",
        "\n",
        "  tambah_produk = input(\"Tambah produk baru? (y/n): \")\n",
        "  if tambah_produk.lower() == 'y':\n",
        "    nama_produk = input(\"Nama produk: \")\n",
        "    harga_produk = input(\"Harga produk (IDR): \")\n",
        "    stok_produk = input(\"Stok produk: \")\n",
        "\n",
        "    tambah_data_sqlite(database_file, nama_produk, harga_produk, stok_produk)\n",
        "    print(\"Produk berhasil ditambahkan dan disimpan.\")\n",
        "\n",
        "  if __name__ == \"__main__\":\n",
        "    main()"
      ],
      "metadata": {
        "id": "ccy8j9nh443H"
      },
      "execution_count": null,
      "outputs": []
    },
    {
      "cell_type": "markdown",
      "source": [
        "Buatlah sebuah program Python yang membaca data dari file CSV yang berisi informasi produk (contoh: nama produk, harga, stok) dan menampilkannya di layar. Setelah itu, program ini harus memungkinkan pengguna untuk menambahkan produk baru dan menyimpannya kembali ke file CSV"
      ],
      "metadata": {
        "id": "E3vX6bRg5lf-"
      }
    },
    {
      "cell_type": "code",
      "source": [
        "import csv\n",
        "\n",
        "def baca_data_csv(nama_file):\n",
        "  data = []\n",
        "  with open(nama_file, mode='r') as file:\n",
        "    csv_reader = csv.DictReader(file)\n",
        "    for row in csv_reader:\n",
        "      data.append(row)\n",
        "  return data\n",
        "\n",
        "def tulis_data_csv(nama_file, data):\n",
        "  with open(nama_file, mode='w', newline='') as file:\n",
        "    fieldnames = data[0].keys()\n",
        "    writer = csv.DictWriter(file, fieldnames=fieldnames)\n",
        "    writer.writeheader()\n",
        "    writer.writerows(data)\n",
        "\n",
        "def main():\n",
        "  nama_file = 'produk.csv'\n",
        "  produk = baca_data_csv(nama_file)\n",
        "\n",
        "  print(\"Data Produk:\")\n",
        "  for item in produk:\n",
        "    print(f\"{item['Nama Produk']}: {item['Harga']} IDR, Stok: {item['Stok']}\")\n",
        "\n",
        "  tambah_produk = input(\"Tambah produk baru? (y/n): \")\n",
        "  if tambah_produk.lower() == 'y':\n",
        "    nama_produk = input(\"Nama produk: \")\n",
        "    harga_produk = input(\"Harga produk (IDR): \")\n",
        "    stok_produk = input(\"Stok produk: \")\n",
        "\n",
        "    produk_baru = {'Nama Produk': nama_produk, 'Harga': harga_produk, 'Stok': stok_produk}\n",
        "    produk.append(produk_baru)\n",
        "\n",
        "    tulis_data_csv(nama_file, produk)\n",
        "    print(\"Produk berhasil ditambahkan dan disimpan.\")\n",
        "\n",
        "if __name__ == \"__main__\":\n",
        "  main()\n"
      ],
      "metadata": {
        "id": "1bIWhfE85pOS"
      },
      "execution_count": null,
      "outputs": []
    }
  ]
}